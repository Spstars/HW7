{
 "cells": [
  {
   "cell_type": "code",
   "execution_count": 3,
   "metadata": {},
   "outputs": [
    {
     "name": "stdout",
     "output_type": "stream",
     "text": [
      "Eigenvalue:  [-0.37228132  5.37228132]\n",
      "Eigenvector:  [[-0.82456484 -0.41597356]\n",
      " [ 0.56576746 -0.90937671]]\n",
      "determinant -2.0000000000000004 \n",
      "\n",
      "cross product :  [-3  6 -3]\n",
      "\n",
      "solution: [[-5.47058824]\n",
      " [-5.64705882]\n",
      " [ 0.88235294]]\n"
     ]
    }
   ],
   "source": [
    "\n",
    "import numpy as np\n",
    "def main():\n",
    "    arr=np.arange(1,5).reshape(2,2)\n",
    "    answers=np.linalg.eig(arr)\n",
    "    det=np.linalg.det(arr)\n",
    "    Eigenvalue=answers[0]\n",
    "    Eigenvector=answers[1]\n",
    "    print(\"Eigenvalue: \",Eigenvalue)\n",
    "    print(\"Eigenvector: \",Eigenvector)\n",
    "    print(\"determinant\",det,\"\\n\")\n",
    "\n",
    "\n",
    "\n",
    "    vec1=np.array([1,2,3])\n",
    "    vec2=np.array([4,5,6])\n",
    "    crossVec=np.cross(vec1,vec2)\n",
    "    print(\"cross product : \", crossVec)\n",
    "\n",
    "    A=np.array([[1,2,2],[2,1,-5],[1,-4,1]])\n",
    "    # b=np.array([-15,-21,18])\n",
    "    b=np.array([[-15],[-21],[18]])\n",
    "\n",
    "    x=np.linalg.solve(A,b)\n",
    "    print()\n",
    "    print(\"solution:\",x)\n",
    "\n",
    "#print(np.dot(A,x))\n",
    "\n",
    "#q2 2번 소수 둘째자리까지만\n",
    "\n",
    "if __name__==\"__main__\":\n",
    "    main()"
   ]
  }
 ],
 "metadata": {
  "kernelspec": {
   "display_name": "base",
   "language": "python",
   "name": "python3"
  },
  "language_info": {
   "codemirror_mode": {
    "name": "ipython",
    "version": 3
   },
   "file_extension": ".py",
   "mimetype": "text/x-python",
   "name": "python",
   "nbconvert_exporter": "python",
   "pygments_lexer": "ipython3",
   "version": "3.9.13"
  },
  "orig_nbformat": 4
 },
 "nbformat": 4,
 "nbformat_minor": 2
}
