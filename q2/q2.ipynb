{
 "cells": [
  {
   "cell_type": "code",
   "execution_count": 4,
   "metadata": {},
   "outputs": [
    {
     "name": "stdout",
     "output_type": "stream",
     "text": [
      "doc0 : 0.87\n",
      "doc1 : 0.58\n",
      "doc2 : 1.00\n"
     ]
    }
   ],
   "source": [
    "import numpy as np\n",
    "def main():\n",
    "    Docs=np.array([[1,1,0,1,0,1],[1,1,1,0,1,0],[1,1,0,1,0,0]])\n",
    "\n",
    "    Query=np.array([1,1,0,1,0,0])\n",
    "\n",
    "    for idx,doc in enumerate(Docs):\n",
    "        dot=np.dot(doc,Query)\n",
    "        norms=np.linalg.norm(doc) * np.linalg.norm(Query)\n",
    "        sim=round(dot/norms,2)\n",
    "        #소수점 둘째자리까지 출력,\n",
    "        print(\"doc\"+str(idx),\": {:.2f}\".format(sim))\n",
    "\n",
    "if __name__==\"__main__\":\n",
    "    main()"
   ]
  }
 ],
 "metadata": {
  "kernelspec": {
   "display_name": "base",
   "language": "python",
   "name": "python3"
  },
  "language_info": {
   "codemirror_mode": {
    "name": "ipython",
    "version": 3
   },
   "file_extension": ".py",
   "mimetype": "text/x-python",
   "name": "python",
   "nbconvert_exporter": "python",
   "pygments_lexer": "ipython3",
   "version": "3.9.13"
  },
  "orig_nbformat": 4
 },
 "nbformat": 4,
 "nbformat_minor": 2
}
